{
 "cells": [
  {
   "cell_type": "code",
   "execution_count": 5,
   "metadata": {},
   "outputs": [],
   "source": [
    "import numpy as np\n",
    "import matplotlib.pyplot as plt\n",
    "import plot_fits\n",
    "import plot_vis\n",
    "import glob\n",
    "from pyuvdata import UVData, UVFlag\n",
    "import warnings\n",
    "import os\n",
    "os.environ['HDF5_USE_FILE_LOCKING'] = 'FALSE'\n",
    "import h5py\n",
    "import hdf5plugin\n",
    "from hera_cal import io\n",
    "from hera_commissioning_tools import utils\n",
    "import inspect\n",
    "warnings.filterwarnings('ignore')\n",
    "%matplotlib inline"
   ]
  },
  {
   "cell_type": "code",
   "execution_count": 14,
   "metadata": {},
   "outputs": [
    {
     "data": {
      "application/javascript": [
       "IPython.notebook.kernel.execute('nb_name = \"' + IPython.notebook.notebook_name + '\"')\n"
      ],
      "text/plain": [
       "<IPython.core.display.Javascript object>"
      ]
     },
     "metadata": {},
     "output_type": "display_data"
    }
   ],
   "source": [
    "%%javascript\n",
    "IPython.notebook.kernel.execute('nb_name = \"' + IPython.notebook.notebook_name + '\"')"
   ]
  },
  {
   "cell_type": "code",
   "execution_count": 13,
   "metadata": {},
   "outputs": [],
   "source": [
    "dirpath = os.path.dirname(os.path.realpath(nb_name))\n",
    "currfile = f'{dirpath}/{nb_name}'\n",
    "githash = utils.get_git_revision_hash(dirpath)"
   ]
  },
  {
   "cell_type": "code",
   "execution_count": 15,
   "metadata": {},
   "outputs": [],
   "source": [
    "outdir = '/lustre/aoc/projects/hera/dstorer/Projects/updatedHeraOnFHD/2459855/plots'"
   ]
  },
  {
   "cell_type": "code",
   "execution_count": 8,
   "metadata": {},
   "outputs": [
    {
     "data": {
      "text/plain": [
       "'7fdc4db7de09a7f8ebc5dcdc60033da1d6a97693'"
      ]
     },
     "execution_count": 8,
     "metadata": {},
     "output_type": "execute_result"
    }
   ],
   "source": [
    "# import importlib\n",
    "# importlib.reload(utils)\n",
    "# dirpath = os.path.dirname(os.path.realpath(nb_name))\n",
    "# utils.get_git_revision_hash(dirpath)"
   ]
  },
  {
   "cell_type": "code",
   "execution_count": 10,
   "metadata": {},
   "outputs": [
    {
     "data": {
      "text/plain": [
       "'/lustre/aoc/projects/hera/dstorer/Setup/djs_fhd_pipeline/plotScripts'"
      ]
     },
     "execution_count": 10,
     "metadata": {},
     "output_type": "execute_result"
    }
   ],
   "source": [
    "os.path.dirname(os.path.abspath(nb_name))"
   ]
  },
  {
   "cell_type": "code",
   "execution_count": 19,
   "metadata": {},
   "outputs": [],
   "source": [
    "def plot_flag_occupancy(flag_path,outfig='',savefig=False, freq_ind_cut=[845,1090]):\n",
    "    flags = UVFlag()\n",
    "    flag_files = sorted(glob.glob(f'{flag_path}/*flags.h5'))\n",
    "    flags.read(flag_files)\n",
    "    flags = flags.flag_array[:,freq_ind_cut[0]:freq_ind_cut[1],0]\n",
    "\n",
    "    fig = plt.figure(figsize=(12,8))\n",
    "    im = plt.imshow(flags,aspect='auto',cmap='Greys',interpolation='nearest')\n",
    "    plt.colorbar(im)\n",
    "    if len(outfig)>0:\n",
    "        s = outfig.split('/')\n",
    "        title=s[-1].split('.')[0]\n",
    "    else:\n",
    "        title=''\n",
    "    plt.title(title)\n",
    "    args = locals()\n",
    "    curr_func = inspect.stack()[0][3]\n",
    "    if savefig:\n",
    "        plt.savefig(outfig,bbox_inches='tight')\n",
    "#         dirpath = os.path.dirname(os.path.realpath(nb_name))\n",
    "#         githash = utils.get_git_revision_hash(dirpath)\n",
    "#         curr_file = os.path.dirname(os.path.abspath(nb_name))\n",
    "#         print(curr_file)\n",
    "        utils.write_params_to_text(outfig,args=args,freq_ind_cut=freq_ind_cut,flag_files=flag_files,\n",
    "                                   curr_func=curr_func,curr_file=currfile,githash=githash)\n",
    "        plt.close()\n",
    "    else:\n",
    "        plt.show()\n",
    "        plt.close()"
   ]
  },
  {
   "cell_type": "code",
   "execution_count": 21,
   "metadata": {
    "scrolled": false
   },
   "outputs": [],
   "source": [
    "runs = ['standardRun','standardRun_internodeOnly',\n",
    "       'standardRun_node12','standardRun_node3','standardRun_node7','standardRun_node9',\n",
    "        'standardRun_streak100sig','standardRun_streak1000sig','restrictiveAntList',\n",
    "        'restrictiveAntList_streak100sig','mediumRestrictiveAntList']\n",
    "# runs = ['standardRun','mediumRestrictiveAntList','restrictiveAntList']\n",
    "for run in runs:\n",
    "    flag_path = f'/lustre/aoc/projects/hera/dstorer/Projects/updatedHeraOnFHD/2459855/ssinsFlagged/{run}'\n",
    "    plot_flag_occupancy(flag_path,savefig=True,outfig=f'{outdir}/flagging/855_{run}_occupancy.jpeg')"
   ]
  },
  {
   "cell_type": "code",
   "execution_count": 7,
   "metadata": {},
   "outputs": [],
   "source": [
    "data_path = '/lustre/aoc/projects/hera/dstorer/H6C_data/2459855'\n",
    "data_files = sorted(glob.glob(f'{data_path}/*sum.uvh5'))"
   ]
  },
  {
   "cell_type": "code",
   "execution_count": null,
   "metadata": {},
   "outputs": [],
   "source": [
    "hd = io.HERADataFastReader(data_files)\n",
    "data, _, _ = hd.read(read_flags=False, read_nsamples=False)"
   ]
  },
  {
   "cell_type": "code",
   "execution_count": null,
   "metadata": {},
   "outputs": [],
   "source": []
  }
 ],
 "metadata": {
  "kernelspec": {
   "display_name": "Python 3",
   "language": "python",
   "name": "python3"
  },
  "language_info": {
   "codemirror_mode": {
    "name": "ipython",
    "version": 3
   },
   "file_extension": ".py",
   "mimetype": "text/x-python",
   "name": "python",
   "nbconvert_exporter": "python",
   "pygments_lexer": "ipython3",
   "version": "3.7.7"
  }
 },
 "nbformat": 4,
 "nbformat_minor": 4
}
