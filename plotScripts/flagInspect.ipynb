{
 "cells": [
  {
   "cell_type": "code",
   "execution_count": 1,
   "metadata": {},
   "outputs": [],
   "source": [
    "import numpy as np\n",
    "import matplotlib.pyplot as plt\n",
    "import plot_fits\n",
    "import plot_vis\n",
    "import glob\n",
    "from pyuvdata import UVData, UVFlag\n",
    "import warnings\n",
    "import os\n",
    "os.environ['HDF5_USE_FILE_LOCKING'] = 'FALSE'\n",
    "import h5py\n",
    "import hdf5plugin\n",
    "from hera_cal import io\n",
    "from hera_commissioning_tools import utils\n",
    "import inspect\n",
    "warnings.filterwarnings('ignore')\n",
    "%matplotlib inline"
   ]
  },
  {
   "cell_type": "code",
   "execution_count": 2,
   "metadata": {},
   "outputs": [],
   "source": [
    "outdir = '/lustre/aoc/projects/hera/dstorer/Projects/updatedHeraOnFHD/2459855/plots'"
   ]
  },
  {
   "cell_type": "code",
   "execution_count": 3,
   "metadata": {},
   "outputs": [],
   "source": [
    "flag_path = '/lustre/aoc/projects/hera/dstorer/Projects/updatedHeraOnFHD/2459855/ssinsFlagged'"
   ]
  },
  {
   "cell_type": "code",
   "execution_count": 4,
   "metadata": {},
   "outputs": [],
   "source": [
    "flags = UVFlag()\n",
    "flag_files = sorted(glob.glob(f'{flag_path}/*flags.h5'))\n",
    "flags.read(flag_files)\n",
    "flags = flags.flag_array[:,845:1090,0]"
   ]
  },
  {
   "cell_type": "code",
   "execution_count": 8,
   "metadata": {},
   "outputs": [
    {
     "data": {
      "image/png": "[encoded data removed]",
      "text/plain": [
       "<Figure size 864x576 with 2 Axes>"
      ]
     },
     "metadata": {
      "needs_background": "light"
     },
     "output_type": "display_data"
    }
   ],
   "source": [
    "fig = plt.figure(figsize=(12,8))\n",
    "im = plt.imshow(flags,aspect='auto',cmap='Greys',interpolation='nearest')\n",
    "plt.colorbar(im)\n",
    "# args = locals()\n",
    "# curr_func = inspect.stack()[0][3]\n",
    "outfig = f'{outdir}/flagging/855_flags.pdf'\n",
    "plt.savefig(outfig,bbox_inches='tight')\n",
    "utils.write_params_to_text(outfig,args={},flag_files=flag_files,freq_ind_cut=[845,1090])"
   ]
  },
  {
   "cell_type": "code",
   "execution_count": 7,
   "metadata": {},
   "outputs": [],
   "source": [
    "data_path = '/lustre/aoc/projects/hera/dstorer/H6C_data/2459855'\n",
    "data_files = sorted(glob.glob(f'{data_path}/*sum.uvh5'))"
   ]
  },
  {
   "cell_type": "code",
   "execution_count": null,
   "metadata": {},
   "outputs": [],
   "source": [
    "hd = io.HERADataFastReader(data_files)\n",
    "data, _, _ = hd.read(read_flags=False, read_nsamples=False)"
   ]
  },
  {
   "cell_type": "code",
   "execution_count": null,
   "metadata": {},
   "outputs": [],
   "source": []
  }
 ],
 "metadata": {
  "kernelspec": {
   "display_name": "Python 3",
   "language": "python",
   "name": "python3"
  },
  "language_info": {
   "codemirror_mode": {
    "name": "ipython",
    "version": 3
   },
   "file_extension": ".py",
   "mimetype": "text/x-python",
   "name": "python",
   "nbconvert_exporter": "python",
   "pygments_lexer": "ipython3",
   "version": "3.7.7"
  }
 },
 "nbformat": 4,
 "nbformat_minor": 4
}
