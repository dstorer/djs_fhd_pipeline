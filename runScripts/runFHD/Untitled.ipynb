{
 "cells": [
  {
   "cell_type": "code",
   "execution_count": 4,
   "id": "f4c79428",
   "metadata": {},
   "outputs": [],
   "source": [
    "import os\n",
    "import subprocess"
   ]
  },
  {
   "cell_type": "code",
   "execution_count": 8,
   "id": "4efe420c",
   "metadata": {},
   "outputs": [
    {
     "name": "stdout",
     "output_type": "stream",
     "text": [
      "/lustre/aoc/projects/hera/dstorer/Setup/djs_fhd_pipeline/runScripts/runFHD\n",
      "45767bcea4d5b67b5bf7004da6bef16baee18a4d\n"
     ]
    }
   ],
   "source": [
    "curr_file='/lustre/aoc/projects/hera/dstorer/Setup/djs_fhd_pipeline/runScripts/runFHD/run_fhd_h4c_arrayJob.py'\n",
    "dir_path = os.path.dirname(os.path.realpath(curr_file))\n",
    "print(dir_path)\n",
    "githash = subprocess.check_output(['git', '-C', str(dir_path), 'rev-parse', 'HEAD']).decode('ascii').strip()\n",
    "print(githash)"
   ]
  },
  {
   "cell_type": "code",
   "execution_count": 10,
   "id": "84a891fb",
   "metadata": {},
   "outputs": [
    {
     "name": "stdout",
     "output_type": "stream",
     "text": [
      "/lustre/aoc/projects/hera/dstorer/Setup/FHD/fhd_core/calibration\n",
      "ae2c5b5164c44be8d691bceb07d0da3b514c0c50\n"
     ]
    }
   ],
   "source": [
    "fhd_file = '/lustre/aoc/projects/hera/dstorer/Setup/FHD/fhd_core/calibration/calfits_read.pro'\n",
    "dir_path = os.path.dirname(os.path.realpath(fhd_file))\n",
    "githash = subprocess.check_output(['git', '-C', str(dir_path), 'rev-parse', 'HEAD']).decode('ascii').strip()\n",
    "print(githash)"
   ]
  },
  {
   "cell_type": "code",
   "execution_count": null,
   "id": "966a99eb",
   "metadata": {},
   "outputs": [],
   "source": []
  }
 ],
 "metadata": {
  "kernelspec": {
   "display_name": "Python 3 (ipykernel)",
   "language": "python",
   "name": "python3"
  },
  "language_info": {
   "codemirror_mode": {
    "name": "ipython",
    "version": 3
   },
   "file_extension": ".py",
   "mimetype": "text/x-python",
   "name": "python",
   "nbconvert_exporter": "python",
   "pygments_lexer": "ipython3",
   "version": "3.9.13"
  }
 },
 "nbformat": 4,
 "nbformat_minor": 5
}
